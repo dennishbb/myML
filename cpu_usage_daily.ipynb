{
 "cells": [
  {
   "cell_type": "code",
   "execution_count": 1,
   "metadata": {},
   "outputs": [
    {
     "name": "stdout",
     "output_type": "stream",
     "text": [
      "Fetched CPU Usage: 0.3960 cores\n",
      "CPU data fetched from Prometheus and inserted into DB successfully.\n"
     ]
    }
   ],
   "source": [
    "import requests\n",
    "import psycopg2\n",
    "from datetime import datetime\n",
    "\n",
    "# Step 1: Fetch CPU usage from Prometheus\n",
    "PROMETHEUS_URL = \"http://192.168.0.99:9090/api/v1/query\"\n",
    "query = 'sum(rate(node_cpu_seconds_total{mode!=\"idle\"}[5m]))'\n",
    "\n",
    "response = requests.get(PROMETHEUS_URL, params={'query': query})\n",
    "data = response.json()\n",
    "\n",
    "if data['status'] == 'success' and data['data']['result']:\n",
    "    cpu_value = float(data['data']['result'][0]['value'][1])\n",
    "    print(f\"Fetched CPU Usage: {cpu_value:.4f} cores\")\n",
    "else:\n",
    "    raise ValueError(\"Failed to fetch data from Prometheus\")\n",
    "\n",
    "# Step 2: Store CPU usage into PostgreSQL\n",
    "conn = psycopg2.connect(\n",
    "    dbname='rag_db',\n",
    "    user='user',\n",
    "    password='password',\n",
    "    host='192.168.0.99',\n",
    "    port=5432\n",
    ")\n",
    "\n",
    "cur = conn.cursor()\n",
    "cur.execute(\"\"\"\n",
    "    CREATE TABLE IF NOT EXISTS daily_cpu_summary (\n",
    "        date DATE PRIMARY KEY,\n",
    "        total_cpu_used FLOAT\n",
    "    );\n",
    "\"\"\")\n",
    "cur.execute(\"\"\"\n",
    "    INSERT INTO daily_cpu_summary (date, total_cpu_used)\n",
    "    VALUES (%s, %s)\n",
    "    ON CONFLICT (date) DO UPDATE\n",
    "    SET total_cpu_used = EXCLUDED.total_cpu_used;\n",
    "\"\"\", (datetime.utcnow().date(), cpu_value))\n",
    "\n",
    "conn.commit()\n",
    "conn.close()\n",
    "print(\"CPU data fetched from Prometheus and inserted into DB successfully.\")\n"
   ]
  }
 ],
 "metadata": {
  "kernelspec": {
   "display_name": "qiskit_env",
   "language": "python",
   "name": "python3"
  },
  "language_info": {
   "codemirror_mode": {
    "name": "ipython",
    "version": 3
   },
   "file_extension": ".py",
   "mimetype": "text/x-python",
   "name": "python",
   "nbconvert_exporter": "python",
   "pygments_lexer": "ipython3",
   "version": "3.11.11"
  }
 },
 "nbformat": 4,
 "nbformat_minor": 2
}
