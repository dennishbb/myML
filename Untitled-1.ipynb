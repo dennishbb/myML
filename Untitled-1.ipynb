{
 "cells": [
  {
   "cell_type": "code",
   "execution_count": null,
   "metadata": {},
   "outputs": [],
   "source": [
    "from pyVim.connect import SmartConnectNoSSL, Disconnect\n",
    "from pyVmomi import vim\n",
    "import atexit\n",
    "\n",
    "# Connect to vCenter\n",
    "si = SmartConnectNoSSL(host=\"vcenter.domain.com\", user=\"admin@domain.com\", pwd=\"your_password\")\n",
    "atexit.register(Disconnect, si)\n",
    "\n",
    "# Get VM\n",
    "content = si.RetrieveContent()\n",
    "vm = next((vm for vm in content.rootFolder.childEntity[0].vmFolder.childEntity if vm.name == \"MyVM\"), None)\n",
    "\n",
    "if vm:\n",
    "    cpu_usage = vm.summary.quickStats.overallCpuUsage\n",
    "    ram_usage = vm.summary.quickStats.guestMemoryUsage\n",
    "\n",
    "    # Increase CPU and Memory if above 80%\n",
    "    if cpu_usage > 80:\n",
    "        spec = vim.vm.ConfigSpec()\n",
    "        spec.numCPUs = 4\n",
    "        vm.Reconfigure(spec)\n",
    "\n",
    "    if ram_usage > 80:\n",
    "        spec = vim.vm.ConfigSpec()\n",
    "        spec.memoryMB = 8192\n",
    "        vm.Reconfigure(spec)\n",
    "\n",
    "print(\"Resource allocation updated!\")\n"
   ]
  }
 ],
 "metadata": {
  "language_info": {
   "name": "python"
  }
 },
 "nbformat": 4,
 "nbformat_minor": 2
}
