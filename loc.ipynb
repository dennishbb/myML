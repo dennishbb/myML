{
 "cells": [
  {
   "cell_type": "code",
   "execution_count": 22,
   "metadata": {},
   "outputs": [
    {
     "name": "stdout",
     "output_type": "stream",
     "text": [
      "Fetching customer data from PostgreSQL...\n",
      "Running quantum optimization for credit limits...\n"
     ]
    },
    {
     "name": "stderr",
     "output_type": "stream",
     "text": [
      "/tmp/ipykernel_2804865/3551060634.py:53: DeprecationWarning: The class ``qiskit.primitives.estimator.Estimator`` is deprecated as of qiskit 1.2. It will be removed no earlier than 3 months after the release date. All implementations of the `BaseEstimatorV1` interface have been deprecated in favor of their V2 counterparts. The V2 alternative for the `Estimator` class is `StatevectorEstimator`.\n",
      "  vqe = VQE(Estimator(), ansatz, optimizer=optimizer)\n"
     ]
    },
    {
     "name": "stdout",
     "output_type": "stream",
     "text": [
      "FICO: 780.0, Utilization: 25.5, Income: 85000.0 → Optimal Value: -0.698558428804956\n"
     ]
    },
    {
     "name": "stderr",
     "output_type": "stream",
     "text": [
      "/tmp/ipykernel_2804865/3551060634.py:53: DeprecationWarning: The class ``qiskit.primitives.estimator.Estimator`` is deprecated as of qiskit 1.2. It will be removed no earlier than 3 months after the release date. All implementations of the `BaseEstimatorV1` interface have been deprecated in favor of their V2 counterparts. The V2 alternative for the `Estimator` class is `StatevectorEstimator`.\n",
      "  vqe = VQE(Estimator(), ansatz, optimizer=optimizer)\n"
     ]
    },
    {
     "name": "stdout",
     "output_type": "stream",
     "text": [
      "FICO: 720.0, Utilization: 40.0, Income: 65000.0 → Optimal Value: -0.6538089661163201\n"
     ]
    },
    {
     "name": "stderr",
     "output_type": "stream",
     "text": [
      "/tmp/ipykernel_2804865/3551060634.py:53: DeprecationWarning: The class ``qiskit.primitives.estimator.Estimator`` is deprecated as of qiskit 1.2. It will be removed no earlier than 3 months after the release date. All implementations of the `BaseEstimatorV1` interface have been deprecated in favor of their V2 counterparts. The V2 alternative for the `Estimator` class is `StatevectorEstimator`.\n",
      "  vqe = VQE(Estimator(), ansatz, optimizer=optimizer)\n"
     ]
    },
    {
     "name": "stdout",
     "output_type": "stream",
     "text": [
      "FICO: 650.0, Utilization: 50.0, Income: 50000.0 → Optimal Value: -0.6058146472796254\n"
     ]
    },
    {
     "name": "stderr",
     "output_type": "stream",
     "text": [
      "/tmp/ipykernel_2804865/3551060634.py:53: DeprecationWarning: The class ``qiskit.primitives.estimator.Estimator`` is deprecated as of qiskit 1.2. It will be removed no earlier than 3 months after the release date. All implementations of the `BaseEstimatorV1` interface have been deprecated in favor of their V2 counterparts. The V2 alternative for the `Estimator` class is `StatevectorEstimator`.\n",
      "  vqe = VQE(Estimator(), ansatz, optimizer=optimizer)\n"
     ]
    },
    {
     "name": "stdout",
     "output_type": "stream",
     "text": [
      "FICO: 600.0, Utilization: 60.0, Income: 45000.0 → Optimal Value: -0.5973503447022299\n"
     ]
    },
    {
     "name": "stderr",
     "output_type": "stream",
     "text": [
      "/tmp/ipykernel_2804865/3551060634.py:53: DeprecationWarning: The class ``qiskit.primitives.estimator.Estimator`` is deprecated as of qiskit 1.2. It will be removed no earlier than 3 months after the release date. All implementations of the `BaseEstimatorV1` interface have been deprecated in favor of their V2 counterparts. The V2 alternative for the `Estimator` class is `StatevectorEstimator`.\n",
      "  vqe = VQE(Estimator(), ansatz, optimizer=optimizer)\n"
     ]
    },
    {
     "name": "stdout",
     "output_type": "stream",
     "text": [
      "FICO: 800.0, Utilization: 10.0, Income: 120000.0 → Optimal Value: -0.7664299847553514\n",
      "User 1.0 - Increase Factor: 1.0x\n",
      "User 2.0 - Increase Factor: 1.0x\n",
      "User 3.0 - Increase Factor: 1.0x\n",
      "User 4.0 - Increase Factor: 1.0x\n",
      "User 5.0 - Increase Factor: 1.0x\n",
      "Updating new credit limits in PostgreSQL...\n",
      "Quantum-enhanced credit limit adjustments completed successfully!\n"
     ]
    }
   ],
   "source": [
    "from sqlalchemy import create_engine\n",
    "from sqlalchemy import text\n",
    "\n",
    "import pandas as pd\n",
    "import numpy as np\n",
    "import psycopg2\n",
    "from qiskit_aer import Aer\n",
    "from qiskit.circuit.library import RealAmplitudes\n",
    "from qiskit_algorithms import VQE\n",
    "from qiskit_algorithms.optimizers import COBYLA\n",
    "from qiskit.quantum_info import SparsePauliOp\n",
    "\n",
    "# **Database Configuration**\n",
    "DB_HOST = \"192.168.0.34\"\n",
    "DB_NAME = \"rag_db\"\n",
    "DB_USER = \"user\"\n",
    "DB_PASS = \"password\"\n",
    "DB_PORT = \"5432\"\n",
    "\n",
    "# **STEP 1: Connect to PostgreSQL using SQLAlchemy**\n",
    "DATABASE_URL = f\"postgresql+psycopg2://{DB_USER}:{DB_PASS}@{DB_HOST}:{DB_PORT}/{DB_NAME}\"\n",
    "engine = create_engine(DATABASE_URL)\n",
    "\n",
    "def fetch_customer_data():\n",
    "    \"\"\"Fetches customer data from PostgreSQL using SQLAlchemy.\"\"\"\n",
    "    query = \"\"\"\n",
    "    SELECT \n",
    "        user_id, \n",
    "        current_credit_limit, \n",
    "        fico_score, \n",
    "        utilization_ratio, \n",
    "        annual_income \n",
    "    FROM customers\n",
    "    \"\"\"\n",
    "    return pd.read_sql(query, engine)  # ✅ Fix: Now using SQLAlchemy engine\n",
    "\n",
    "def quantum_credit_decision(fico, utilization, income):\n",
    "    \"\"\"Quantum optimization to determine credit limit increase.\"\"\"\n",
    "    num_qubits = 3  # Encoding FICO, Utilization, and Income as quantum states\n",
    "    ansatz = RealAmplitudes(num_qubits, reps=2)\n",
    "\n",
    "    # ✅ Fixed SparsePauliOp Formatting\n",
    "    from qiskit.quantum_info import Pauli  \n",
    "    H = SparsePauliOp(\n",
    "        [Pauli(\"ZII\"), Pauli(\"IZI\"), Pauli(\"IIZ\")], \n",
    "        coeffs=[fico / 850 * 0.4, -utilization / 100 * 0.3, income / 100000 * 0.3]\n",
    "    )\n",
    "\n",
    "    optimizer = COBYLA(maxiter=100)\n",
    "\n",
    "    # ✅ Corrected VQE Initialization\n",
    "    from qiskit.primitives import Estimator\n",
    "    vqe = VQE(Estimator(), ansatz, optimizer=optimizer)\n",
    "\n",
    "    result = vqe.compute_minimum_eigenvalue(H)\n",
    "\n",
    "     # ✅ Print Debugging Values\n",
    "    print(f\"FICO: {fico}, Utilization: {utilization}, Income: {income} → Optimal Value: {result.optimal_value}\")\n",
    "\n",
    "    return np.clip(result.optimal_value, 1.0, 1.25)  # Credit increase between 1.0x - 1.25x\n",
    "\n",
    "\n",
    "\n",
    "\n",
    "# **STEP 3: Apply Quantum Model to All Customers**\n",
    "def update_credit_limits(df):\n",
    "    df[\"increase_percentage\"] = df.apply(\n",
    "        lambda row: quantum_credit_decision(row[\"fico_score\"], row[\"utilization_ratio\"], row[\"annual_income\"]), axis=1\n",
    "    )\n",
    "    \n",
    "    # ✅ Print each customer's increase percentage for debugging\n",
    "    for _, row in df.iterrows():\n",
    "        print(f\"User {row['user_id']} - Increase Factor: {row['increase_percentage']}x\")\n",
    "\n",
    "    df[\"new_credit_limit\"] = df[\"current_credit_limit\"] * df[\"increase_percentage\"]\n",
    "    return df\n",
    "\n",
    "\n",
    "# **STEP 4: Update PostgreSQL with New Credit Limits**\n",
    "\n",
    "def update_postgres_table(df):\n",
    "    \"\"\"Updates the PostgreSQL database with new credit limits using SQLAlchemy.\"\"\"\n",
    "    conn = engine.connect()\n",
    "    trans = conn.begin()\n",
    "    \n",
    "    try:\n",
    "        for _, row in df.iterrows():\n",
    "            query = text(\"\"\"\n",
    "            UPDATE customers\n",
    "            SET current_credit_limit = :credit_limit\n",
    "            WHERE user_id = :user_id\n",
    "            \"\"\")\n",
    "\n",
    "            conn.execute(query, {\"credit_limit\": float(row[\"new_credit_limit\"]), \"user_id\": int(row[\"user_id\"])})\n",
    "        \n",
    "        trans.commit()\n",
    "    except Exception as e:\n",
    "        trans.rollback()\n",
    "        print(f\"Error updating database: {e}\")\n",
    "    finally:\n",
    "        conn.close()\n",
    "\n",
    "\n",
    "# **STEP 5: Run the Quantum Model**\n",
    "if __name__ == \"__main__\":\n",
    "    print(\"Fetching customer data from PostgreSQL...\")\n",
    "    customer_data = fetch_customer_data()\n",
    "    \n",
    "    print(\"Running quantum optimization for credit limits...\")\n",
    "    updated_data = update_credit_limits(customer_data)\n",
    "    \n",
    "    print(\"Updating new credit limits in PostgreSQL...\")\n",
    "    update_postgres_table(updated_data)\n",
    "    \n",
    "    print(\"Quantum-enhanced credit limit adjustments completed successfully!\")\n"
   ]
  }
 ],
 "metadata": {
  "kernelspec": {
   "display_name": "qiskit_env",
   "language": "python",
   "name": "python3"
  },
  "language_info": {
   "codemirror_mode": {
    "name": "ipython",
    "version": 3
   },
   "file_extension": ".py",
   "mimetype": "text/x-python",
   "name": "python",
   "nbconvert_exporter": "python",
   "pygments_lexer": "ipython3",
   "version": "3.11.11"
  }
 },
 "nbformat": 4,
 "nbformat_minor": 2
}
