{
 "cells": [
  {
   "cell_type": "code",
   "execution_count": 1,
   "metadata": {},
   "outputs": [],
   "source": [
    "import nmap\n",
    "import pandas as pd\n",
    "import json"
   ]
  },
  {
   "cell_type": "code",
   "execution_count": 10,
   "metadata": {},
   "outputs": [],
   "source": [
    "def scan_databases(network_range=\"192.168.0.0/24\", ports=\"27017,9042,5432,3306\"):\n",
    "    nm = nmap.PortScanner()\n",
    "    print(f\"🟢 Scanning {network_range} on ports {ports}...\")\n",
    "    \n",
    "    try:\n",
    "        nm.scan(hosts=network_range, arguments=f'-p {ports} --open')\n",
    "        results = [\n",
    "            {\"host\": host, \"port\": port, \"service\": nm[host][proto][port].get(\"name\", \"Unknown Database\")}\n",
    "            for host in nm.all_hosts() for proto in nm[host].all_protocols() for port in nm[host][proto].keys()\n",
    "        ]\n",
    "        return results\n",
    "    except Exception as e:\n",
    "        print(f\"❌ Error: {e}\")\n",
    "        return []\n"
   ]
  },
  {
   "cell_type": "code",
   "execution_count": 11,
   "metadata": {},
   "outputs": [
    {
     "name": "stdout",
     "output_type": "stream",
     "text": [
      "🟢 Scanning 192.168.1.0/24 on ports 5432,3306,27017,9042...\n"
     ]
    }
   ],
   "source": [
    "subnet = \"192.168.1.0/24\"\n",
    "ports = \"5432,3306,27017,9042\"\n",
    "\n",
    "scan_results = scan_databases(subnet, ports)\n"
   ]
  },
  {
   "cell_type": "code",
   "execution_count": 12,
   "metadata": {},
   "outputs": [
    {
     "name": "stdout",
     "output_type": "stream",
     "text": [
      "✅ Scan results saved as 'scan_results.json'\n"
     ]
    }
   ],
   "source": [
    "with open(\"scan_results.json\", \"w\") as f:\n",
    "    json.dump(scan_results, f, indent=2)\n",
    "print(\"✅ Scan results saved as 'scan_results.json'\")\n"
   ]
  }
 ],
 "metadata": {
  "kernelspec": {
   "display_name": "qiskit_env",
   "language": "python",
   "name": "python3"
  },
  "language_info": {
   "codemirror_mode": {
    "name": "ipython",
    "version": 3
   },
   "file_extension": ".py",
   "mimetype": "text/x-python",
   "name": "python",
   "nbconvert_exporter": "python",
   "pygments_lexer": "ipython3",
   "version": "3.11.11"
  }
 },
 "nbformat": 4,
 "nbformat_minor": 2
}
