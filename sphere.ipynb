{
 "cells": [
  {
   "cell_type": "code",
   "execution_count": 3,
   "metadata": {},
   "outputs": [
    {
     "name": "stdout",
     "output_type": "stream",
     "text": [
      "Qsphere saved as 'qsphere.png'\n"
     ]
    }
   ],
   "source": [
    "import seaborn\n",
    "from qiskit import QuantumCircuit\n",
    "from qiskit.visualization import plot_state_qsphere\n",
    "from qiskit.quantum_info import Statevector\n",
    "\n",
    "# Create a 2-qubit circuit\n",
    "qc = QuantumCircuit(2)\n",
    "qc.h(0)       # Put qubit 0 in superposition\n",
    "qc.cx(0, 1)   # Entangle qubit 0 and qubit 1\n",
    "\n",
    "qsphere_fig = plot_state_qsphere(state)\n",
    "qsphere_fig.savefig(\"qsphere.png\")\n",
    "print(\"Qsphere saved as 'qsphere.png'\")\n",
    "\n"
   ]
  }
 ],
 "metadata": {
  "kernelspec": {
   "display_name": "qiskit_env",
   "language": "python",
   "name": "python3"
  },
  "language_info": {
   "codemirror_mode": {
    "name": "ipython",
    "version": 3
   },
   "file_extension": ".py",
   "mimetype": "text/x-python",
   "name": "python",
   "nbconvert_exporter": "python",
   "pygments_lexer": "ipython3",
   "version": "3.11.11"
  }
 },
 "nbformat": 4,
 "nbformat_minor": 2
}
