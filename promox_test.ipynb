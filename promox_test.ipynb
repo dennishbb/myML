{
 "cells": [
  {
   "cell_type": "code",
   "execution_count": 3,
   "metadata": {},
   "outputs": [
    {
     "name": "stdout",
     "output_type": "stream",
     "text": [
      "✅ Successfully authenticated with Proxmox!\n"
     ]
    }
   ],
   "source": [
    "import requests\n",
    "import json\n",
    "import urllib3\n",
    "\n",
    "# Disable SSL warnings (since Proxmox uses a self-signed certificate)\n",
    "urllib3.disable_warnings(urllib3.exceptions.InsecureRequestWarning)\n",
    "\n",
    "# Proxmox API Credentials\n",
    "PROXMOX_HOST = \"192.168.0.100\"\n",
    "USERNAME = \"root@pam\"  # 'root@pam' is required for root login\n",
    "PASSWORD = \"password\"\n",
    "\n",
    "# Authenticate and get ticket/token\n",
    "def get_proxmox_ticket():\n",
    "    url = f\"https://{PROXMOX_HOST}:8006/api2/json/access/ticket\"\n",
    "    payload = {\"username\": USERNAME, \"password\": PASSWORD}\n",
    "    headers = {\"Content-Type\": \"application/x-www-form-urlencoded\"}\n",
    "\n",
    "    response = requests.post(url, data=payload, headers=headers, verify=False)  # ✅ Disable SSL verification\n",
    "\n",
    "    if response.status_code == 200:\n",
    "        data = response.json()\n",
    "        if \"data\" in data and \"ticket\" in data[\"data\"]:\n",
    "            return data[\"data\"][\"ticket\"], data[\"data\"][\"CSRFPreventionToken\"]\n",
    "        else:\n",
    "            print(\"❌ Authentication failed: No ticket found in response!\")\n",
    "            print(\"🔍 Response Data:\", data)\n",
    "            return None, None\n",
    "    else:\n",
    "        print(f\"❌ Failed to get Proxmox authentication ticket: {response.status_code}\")\n",
    "        print(\"🔍 Response Content:\", response.text)  # Show API error message\n",
    "        return None, None\n",
    "\n",
    "# Test authentication\n",
    "ticket, csrf_token = get_proxmox_ticket()\n",
    "if ticket:\n",
    "    print(\"✅ Successfully authenticated with Proxmox!\")\n",
    "else:\n",
    "    print(\"❌ Authentication failed! Check credentials and Proxmox API access.\")\n"
   ]
  }
 ],
 "metadata": {
  "kernelspec": {
   "display_name": "qiskit_env",
   "language": "python",
   "name": "python3"
  },
  "language_info": {
   "codemirror_mode": {
    "name": "ipython",
    "version": 3
   },
   "file_extension": ".py",
   "mimetype": "text/x-python",
   "name": "python",
   "nbconvert_exporter": "python",
   "pygments_lexer": "ipython3",
   "version": "3.11.11"
  }
 },
 "nbformat": 4,
 "nbformat_minor": 2
}
