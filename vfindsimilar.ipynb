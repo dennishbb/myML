{
 "cells": [
  {
   "cell_type": "code",
   "execution_count": 1,
   "metadata": {},
   "outputs": [
    {
     "name": "stdout",
     "output_type": "stream",
     "text": [
      "Most similar tickets to the winning numbers:\n",
      "(131, 3, 15, 16, 34, 57, 9, 'classical', 243531, '[0.04347826,0.2173913,0.23188406,0.49275362,0.82608694,0.34615386]', datetime.datetime(2024, 12, 19, 6, 1, 12, 451066), 0.14933273495596114)\n",
      "(178, 4, 13, 15, 37, 54, 3, 'classical', 243531, '[0.057971016,0.1884058,0.2173913,0.5362319,0.7826087,0.115384616]', datetime.datetime(2024, 12, 19, 6, 7, 43, 224241), 0.1893434895527659)\n",
      "(128, 7, 10, 29, 38, 52, 8, 'classical', 243531, '[0.10144927,0.14492753,0.42028984,0.5507246,0.7536232,0.30769232]', datetime.datetime(2024, 12, 19, 6, 0, 46, 993169), 0.1987372732286307)\n",
      "(199, 9, 14, 21, 23, 58, 8, 'classical', 243531, '[0.13043478,0.20289855,0.3043478,0.33333334,0.8405797,0.30769232]', datetime.datetime(2024, 12, 19, 6, 10, 47, 579577), 0.20853598791451253)\n",
      "(87, 6, 22, 26, 32, 43, 4, 'classical', 243531, '[0.08695652,0.3188406,0.3768116,0.46376812,0.6231884,0.15384616]', datetime.datetime(2024, 12, 19, 5, 49, 47, 241914), 0.21170642014527247)\n"
     ]
    }
   ],
   "source": [
    "import psycopg2\n",
    "\n",
    "# Winning numbers\n",
    "white_balls = [6, 15, 18, 33, 49]\n",
    "powerball = 7\n",
    "\n",
    "# Normalize the numbers\n",
    "normalized_white_balls = [num / 69.0 for num in white_balls]\n",
    "normalized_powerball = powerball / 26.0\n",
    "winning_vector = normalized_white_balls + [normalized_powerball]\n",
    "\n",
    "# SQL query to find similar tickets\n",
    "query = f\"\"\"\n",
    "SELECT *, embedding <-> '{winning_vector}'::vector AS similarity\n",
    "FROM powerball_ticket_sessions\n",
    "ORDER BY similarity\n",
    "LIMIT 5;\n",
    "\"\"\"\n",
    "\n",
    "def find_similar_tickets():\n",
    "    try:\n",
    "        # Connect to PostgreSQL\n",
    "        conn = psycopg2.connect(\n",
    "            dbname=\"rag_db\",\n",
    "            user=\"user\",\n",
    "            password=\"password\",\n",
    "            host=\"192.168.0.89\",\n",
    "            port=5432\n",
    "        )\n",
    "        cursor = conn.cursor()\n",
    "\n",
    "        # Execute the query\n",
    "        cursor.execute(query)\n",
    "        results = cursor.fetchall()\n",
    "\n",
    "        # Print the results\n",
    "        print(\"Most similar tickets to the winning numbers:\")\n",
    "        for row in results:\n",
    "            print(row)\n",
    "    except Exception as e:\n",
    "        print(f\"Database error: {e}\")\n",
    "    finally:\n",
    "        cursor.close()\n",
    "        conn.close()\n",
    "\n",
    "# Run the function\n",
    "find_similar_tickets()\n"
   ]
  }
 ],
 "metadata": {
  "kernelspec": {
   "display_name": "qiskit_env",
   "language": "python",
   "name": "python3"
  },
  "language_info": {
   "codemirror_mode": {
    "name": "ipython",
    "version": 3
   },
   "file_extension": ".py",
   "mimetype": "text/x-python",
   "name": "python",
   "nbconvert_exporter": "python",
   "pygments_lexer": "ipython3",
   "version": "3.11.10"
  }
 },
 "nbformat": 4,
 "nbformat_minor": 2
}
