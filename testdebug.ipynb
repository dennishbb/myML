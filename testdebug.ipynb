{
 "cells": [
  {
   "cell_type": "code",
   "execution_count": 2,
   "metadata": {},
   "outputs": [
    {
     "name": "stdout",
     "output_type": "stream",
     "text": [
      "Hello, Alice!\n",
      "The sum of 10 and 20 is 30\n",
      "Counting to 5:\n",
      "1\n",
      "2\n",
      "3\n",
      "4\n",
      "5\n"
     ]
    }
   ],
   "source": [
    "# Simple Python script for testing and debugging\n",
    "\n",
    "def greet(name):\n",
    "    \"\"\"A simple function that greets the user.\"\"\"\n",
    "    return f\"Hello, {name}!\"\n",
    "\n",
    "def calculate_sum(a, b):\n",
    "    \"\"\"A function that calculates the sum of two numbers.\"\"\"\n",
    "    return a + b\n",
    "\n",
    "def main():\n",
    "    # Variables\n",
    "    user_name = \"Alice\"\n",
    "    num1 = 10\n",
    "    num2 = 20\n",
    "\n",
    "    # Function calls\n",
    "    greeting = greet(user_name)\n",
    "    total = calculate_sum(num1, num2)\n",
    "\n",
    "    # Output results\n",
    "    print(greeting)\n",
    "    print(f\"The sum of {num1} and {num2} is {total}\")\n",
    "\n",
    "    # Loop example\n",
    "    print(\"Counting to 5:\")\n",
    "    for i in range(1, 6):\n",
    "        print(i)\n",
    "\n",
    "if __name__ == \"__main__\":\n",
    "    main()"
   ]
  }
 ],
 "metadata": {
  "kernelspec": {
   "display_name": "qiskit_env",
   "language": "python",
   "name": "python3"
  },
  "language_info": {
   "codemirror_mode": {
    "name": "ipython",
    "version": 3
   },
   "file_extension": ".py",
   "mimetype": "text/x-python",
   "name": "python",
   "nbconvert_exporter": "python",
   "pygments_lexer": "ipython3",
   "version": "3.11.11"
  }
 },
 "nbformat": 4,
 "nbformat_minor": 2
}
