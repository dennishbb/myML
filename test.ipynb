{
 "cells": [
  {
   "cell_type": "code",
   "execution_count": 8,
   "metadata": {},
   "outputs": [
    {
     "name": "stdout",
     "output_type": "stream",
     "text": [
      "Qiskit 1.3.1 imports are working correctly!\n"
     ]
    }
   ],
   "source": [
    "# Quantum Simulator\n",
    "from qiskit_aer import Aer\n",
    "\n",
    "# Quantum Circuit Components\n",
    "from qiskit.circuit.library import RealAmplitudes\n",
    "\n",
    "# Quantum Algorithms\n",
    "from qiskit_algorithms import VQE\n",
    "from qiskit_algorithms.optimizers import COBYLA\n",
    "\n",
    "# Quantum Execution Primitives\n",
    "from qiskit_aer.primitives import Estimator  # Aer quantum simulator\n",
    "from qiskit.quantum_info import SparsePauliOp  # Replace opflow operators\n",
    "\n",
    "# Initialize Quantum Simulator\n",
    "backend = Aer.get_backend('aer_simulator')\n",
    "\n",
    "# Print Confirmation\n",
    "print(\"Qiskit 1.3.1 imports are working correctly!\")\n",
    "\n",
    "\n"
   ]
  }
 ],
 "metadata": {
  "kernelspec": {
   "display_name": "qiskit_env",
   "language": "python",
   "name": "python3"
  },
  "language_info": {
   "codemirror_mode": {
    "name": "ipython",
    "version": 3
   },
   "file_extension": ".py",
   "mimetype": "text/x-python",
   "name": "python",
   "nbconvert_exporter": "python",
   "pygments_lexer": "ipython3",
   "version": "3.11.11"
  }
 },
 "nbformat": 4,
 "nbformat_minor": 2
}
