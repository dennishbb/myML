{
 "cells": [
  {
   "cell_type": "code",
   "execution_count": 1,
   "metadata": {},
   "outputs": [
    {
     "ename": "ImportError",
     "evalue": "cannot import name 'execute' from 'qiskit' (/home/developer/projects/qiskit_env/lib64/python3.11/site-packages/qiskit/__init__.py)",
     "output_type": "error",
     "traceback": [
      "\u001b[0;31m---------------------------------------------------------------------------\u001b[0m",
      "\u001b[0;31mImportError\u001b[0m                               Traceback (most recent call last)",
      "Cell \u001b[0;32mIn[1], line 2\u001b[0m\n\u001b[1;32m      1\u001b[0m \u001b[38;5;66;03m# Import Qiskit libraries\u001b[39;00m\n\u001b[0;32m----> 2\u001b[0m \u001b[38;5;28;01mfrom\u001b[39;00m \u001b[38;5;21;01mqiskit\u001b[39;00m \u001b[38;5;28;01mimport\u001b[39;00m QuantumCircuit, execute, Aer\n\u001b[1;32m      3\u001b[0m \u001b[38;5;28;01mfrom\u001b[39;00m \u001b[38;5;21;01mqiskit\u001b[39;00m\u001b[38;5;21;01m.\u001b[39;00m\u001b[38;5;21;01mvisualization\u001b[39;00m \u001b[38;5;28;01mimport\u001b[39;00m plot_histogram\n\u001b[1;32m      5\u001b[0m \u001b[38;5;66;03m# Create a quantum circuit with 3 qubits and 3 classical bits\u001b[39;00m\n",
      "\u001b[0;31mImportError\u001b[0m: cannot import name 'execute' from 'qiskit' (/home/developer/projects/qiskit_env/lib64/python3.11/site-packages/qiskit/__init__.py)"
     ]
    }
   ],
   "source": [
    "# Import Qiskit libraries\n",
    "from qiskit import QuantumCircuit, execute, Aer\n",
    "from qiskit.visualization import plot_histogram\n",
    "\n",
    "# Create a quantum circuit with 3 qubits and 3 classical bits\n",
    "qc = QuantumCircuit(3, 3)\n",
    "\n",
    "# Step 1: Initialize the state to teleport (we'll use a random state for demonstration)\n",
    "qc.h(0)               # Apply Hadamard gate on qubit 0 (this sets it to a superposition state)\n",
    "qc.barrier()          # Add barrier for visualization clarity\n",
    "\n",
    "# Step 2: Create entanglement between qubits 1 and 2\n",
    "qc.h(1)               # Apply Hadamard gate on qubit 1\n",
    "qc.cx(1, 2)           # Apply CNOT gate, with qubit 1 as control and qubit 2 as target\n",
    "qc.barrier()          # Add barrier for visualization clarity\n",
    "\n",
    "# Step 3: Bell measurement between qubit 0 and qubit 1\n",
    "qc.cx(0, 1)           # Apply CNOT gate, with qubit 0 as control and qubit 1 as target\n",
    "qc.h(0)               # Apply Hadamard gate on qubit 0\n",
    "qc.barrier()          # Add barrier for visualization clarity\n",
    "\n",
    "# Step 4: Measure qubits 0 and 1 and store results in classical bits\n",
    "qc.measure([0, 1], [0, 1])\n",
    "\n",
    "# Step 5: Apply corrections based on measurement outcomes\n",
    "qc.cx(1, 2)           # Apply CNOT gate if qubit 1 (classical) is 1\n",
    "qc.cz(0, 2)           # Apply Z gate if qubit 0 (classical) is 1\n",
    "\n",
    "# Measure the teleported qubit's final state\n",
    "qc.measure(2, 2)\n",
    "\n",
    "# Execute the quantum circuit\n",
    "simulator = Aer.get_backend('qasm_simulator')\n",
    "result = execute(qc, backend=simulator, shots=1024).result()\n",
    "\n",
    "# Plot the results\n",
    "counts = result.get_counts(qc)\n",
    "plot_histogram(counts).show()\n"
   ]
  }
 ],
 "metadata": {
  "kernelspec": {
   "display_name": "qiskit_env",
   "language": "python",
   "name": "python3"
  },
  "language_info": {
   "codemirror_mode": {
    "name": "ipython",
    "version": 3
   },
   "file_extension": ".py",
   "mimetype": "text/x-python",
   "name": "python",
   "nbconvert_exporter": "python",
   "pygments_lexer": "ipython3",
   "version": "3.11.10"
  }
 },
 "nbformat": 4,
 "nbformat_minor": 2
}
