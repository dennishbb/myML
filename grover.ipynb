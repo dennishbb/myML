{
 "cells": [
  {
   "cell_type": "code",
   "execution_count": 1,
   "metadata": {},
   "outputs": [
    {
     "ename": "ImportError",
     "evalue": "cannot import name 'Aer' from 'qiskit' (/home/developer/projects/qiskit_env/lib64/python3.11/site-packages/qiskit/__init__.py)",
     "output_type": "error",
     "traceback": [
      "\u001b[0;31m---------------------------------------------------------------------------\u001b[0m",
      "\u001b[0;31mImportError\u001b[0m                               Traceback (most recent call last)",
      "Cell \u001b[0;32mIn[1], line 1\u001b[0m\n\u001b[0;32m----> 1\u001b[0m \u001b[38;5;28;01mfrom\u001b[39;00m \u001b[38;5;21;01mqiskit\u001b[39;00m \u001b[38;5;28;01mimport\u001b[39;00m QuantumCircuit, Aer, execute\n\u001b[1;32m      2\u001b[0m \u001b[38;5;28;01mfrom\u001b[39;00m \u001b[38;5;21;01mqiskit\u001b[39;00m\u001b[38;5;21;01m.\u001b[39;00m\u001b[38;5;21;01mvisualization\u001b[39;00m \u001b[38;5;28;01mimport\u001b[39;00m plot_histogram\n\u001b[1;32m      4\u001b[0m \u001b[38;5;66;03m# Create a 2-qubit quantum circuit\u001b[39;00m\n",
      "\u001b[0;31mImportError\u001b[0m: cannot import name 'Aer' from 'qiskit' (/home/developer/projects/qiskit_env/lib64/python3.11/site-packages/qiskit/__init__.py)"
     ]
    }
   ],
   "source": [
    "from qiskit import QuantumCircuit, Aer, execute\n",
    "from qiskit.visualization import plot_histogram\n",
    "\n",
    "# Create a 2-qubit quantum circuit\n",
    "n = 2\n",
    "grover_circuit = QuantumCircuit(n)\n",
    "\n",
    "# Step 1: Apply Hadamard gates\n",
    "grover_circuit.h(range(n))\n",
    "\n",
    "# Step 2: Oracle for marked state |10>\n",
    "grover_circuit.cz(0, 1)  # Flip the amplitude of |10>\n",
    "\n",
    "# Step 3: Grover Diffusion Operator\n",
    "grover_circuit.h(range(n))\n",
    "grover_circuit.x(range(n))\n",
    "grover_circuit.h(n-1)\n",
    "grover_circuit.cz(0, 1)\n",
    "grover_circuit.h(n-1)\n",
    "grover_circuit.x(range(n))\n",
    "grover_circuit.h(range(n))\n",
    "\n",
    "# Step 4: Measurement\n",
    "grover_circuit.measure_all()\n",
    "\n",
    "# Simulate the circuit\n",
    "simulator = Aer.get_backend('qasm_simulator')\n",
    "result = execute(grover_circuit, simulator, shots=1024).result()\n",
    "counts = result.get_counts()\n",
    "\n",
    "# Display results\n",
    "print(\"Counts:\", counts)\n",
    "plot_histogram(counts)\n"
   ]
  }
 ],
 "metadata": {
  "kernelspec": {
   "display_name": "qiskit_env",
   "language": "python",
   "name": "python3"
  },
  "language_info": {
   "codemirror_mode": {
    "name": "ipython",
    "version": 3
   },
   "file_extension": ".py",
   "mimetype": "text/x-python",
   "name": "python",
   "nbconvert_exporter": "python",
   "pygments_lexer": "ipython3",
   "version": "3.11.10"
  }
 },
 "nbformat": 4,
 "nbformat_minor": 2
}
