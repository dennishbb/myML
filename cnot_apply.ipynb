{
 "cells": [
  {
   "cell_type": "code",
   "execution_count": 2,
   "metadata": {},
   "outputs": [
    {
     "name": "stdout",
     "output_type": "stream",
     "text": [
      "Counts: {'00': 478, '11': 546}\n"
     ]
    }
   ],
   "source": [
    "from qiskit import QuantumCircuit\n",
    "from qiskit_aer import AerSimulator\n",
    "from qiskit.compiler import transpile\n",
    "from qiskit.visualization import plot_histogram\n",
    "import matplotlib.pyplot as plt\n",
    "\n",
    "# Create a quantum circuit with 2 qubits\n",
    "qc = QuantumCircuit(2)\n",
    "qc.h(0)  # Apply Hadamard to the first qubit\n",
    "qc.cx(0, 1)  # Apply CNOT with qubit 0 as control and qubit 1 as target\n",
    "qc.measure_all()  # Measure both qubits\n",
    "\n",
    "# Simulate the circuit\n",
    "simulator = AerSimulator()\n",
    "qc_compiled = transpile(qc, simulator)\n",
    "result = simulator.run(qc_compiled, shots=1024).result()\n",
    "counts = result.get_counts()\n",
    "\n",
    "# Display the results\n",
    "print(\"Counts:\", counts)\n",
    "plot_histogram(counts)\n",
    "plt.show()\n"
   ]
  }
 ],
 "metadata": {
  "kernelspec": {
   "display_name": "qiskit_env",
   "language": "python",
   "name": "python3"
  },
  "language_info": {
   "codemirror_mode": {
    "name": "ipython",
    "version": 3
   },
   "file_extension": ".py",
   "mimetype": "text/x-python",
   "name": "python",
   "nbconvert_exporter": "python",
   "pygments_lexer": "ipython3",
   "version": "3.11.10"
  }
 },
 "nbformat": 4,
 "nbformat_minor": 2
}
